{
 "cells": [
  {
   "cell_type": "code",
   "execution_count": null,
   "metadata": {
    "ExecuteTime": {
     "end_time": "2025-02-19T16:26:05.323870Z",
     "start_time": "2025-02-19T16:26:05.211206Z"
    },
    "init_cell": true
   },
   "outputs": [],
   "source": [
    "#import scipy as sp\n",
    "import os\n",
    "import sys\n",
    "# sys.path.insert(1, os.path.join(sys.path[0], '..'))\n",
    "import numpy as np\n",
    "import pickle\n",
    "from itertools import product\n",
    "import matplotlib.pyplot as plt\n",
    "from scipy.spatial.distance import squareform, pdist, cdist\n",
    "import copy\n",
    "\n",
    "\n"
   ]
  },
  {
   "cell_type": "code",
   "execution_count": null,
   "metadata": {
    "ExecuteTime": {
     "end_time": "2022-09-29T15:31:00.821126Z",
     "start_time": "2022-09-29T15:30:52.519268Z"
    }
   },
   "outputs": [],
   "source": [
    "#load tensor\n",
    "basedir = '../../ipynbs_mouse/stim_samples/temp-tensors'\n",
    "# set the filename used when saving the tensor4d with activations and neurons used\n",
    "PREFIX = 'res50_shifted_i3_n1575_SCL0_5_TL37_activation_maxFmeanN_imMax'\n",
    "\n",
    "\n",
    "tensor4d = np.load(f'{basedir}/tensor4d_{PREFIX}.npy')\n",
    "neurons_used = np.load(f'{basedir}/neurons_used_{PREFIX}.npy')"
   ]
  },
  {
   "cell_type": "markdown",
   "metadata": {},
   "source": [
    "### create tensor"
   ]
  },
  {
   "cell_type": "code",
   "execution_count": 92,
   "metadata": {
    "ExecuteTime": {
     "end_time": "2022-09-30T15:03:45.345396Z",
     "start_time": "2022-09-30T15:03:43.172852Z"
    }
   },
   "outputs": [],
   "source": [
    "\n",
    "N, NSTIMS, NDIRS, TRIAL_LEN = tensor4d.shape\n",
    "\n",
    "\n",
    "method = 'relNorm'\n",
    "smooth_sig = 3\n",
    "from scipy.ndimage import gaussian_filter1d\n",
    "#collect psts for those sampled neurons\n",
    "\n",
    "optSF = True # use the optimal spatial frquency (SF) across stimulus classes\n",
    "SF_med_idxs = [0,2,5,6,9,10] # idxs of medium SF stims (+ LF Gratings -- 0)\n",
    "SF_hi_idxs = [0,1,3,4,7,8] #high SF (+ LF Gratings -- 0)\n",
    "if optSF:\n",
    "    optStims = []\n",
    "    tensorX = np.zeros((N,NSTIMS//2+1, NDIRS * TRIAL_LEN))\n",
    "    relFRs = np.zeros((N,NSTIMS//2+1))\n",
    "else: #use all the stimuli\n",
    "    tensorX = np.zeros((N,NSTIMS, NDIRS * TRIAL_LEN))\n",
    "    relFRs = np.zeros((N,NSTIMS))\n",
    "\n",
    "for nii in range(tensor4d.shape[0]):\n",
    "    \n",
    "    relMeanPosFRs = []\n",
    "    all_psts = np.zeros((NSTIMS, NDIRS * TRIAL_LEN))\n",
    "    for stimi in range(NSTIMS):\n",
    "        \n",
    "        pst = tensor4d[nii,stimi]\n",
    "        \n",
    "        if smooth_sig > 0:\n",
    "            pst = gaussian_filter1d(pst,smooth_sig,axis=1)\n",
    "            \n",
    "#         if subtractMinFromPSTHs:\n",
    "#             #preserve orig FR\n",
    "#             pst_max = pst.max()\n",
    "#             if pst_max > 0:\n",
    "#                 pst -= pst.min()\n",
    "#                 pst /= pst.max()\n",
    "#                 pst *= pst_max\n",
    "                \n",
    "        relMeanPosFRs.append(max(pst.mean(1)))\n",
    "        all_psts[stimi] = pst.ravel(order='F')\n",
    "        \n",
    "    relMeanPosFRs = np.array(relMeanPosFRs)\n",
    "\n",
    "    if optSF:\n",
    "        #choose optimal SF\n",
    "        med_FRs = relMeanPosFRs[SF_med_idxs]\n",
    "        hi_FRs = relMeanPosFRs[SF_hi_idxs]\n",
    "        if (med_FRs > hi_FRs).sum() > (hi_FRs > med_FRs).sum():\n",
    "            relMeanPosFRs = med_FRs\n",
    "            tensorX[nii] = all_psts[SF_med_idxs]\n",
    "            optStims.append('med')\n",
    "        else:\n",
    "            relMeanPosFRs = hi_FRs\n",
    "            tensorX[nii] = all_psts[SF_hi_idxs]\n",
    "            optStims.append('hi')\n",
    "            \n",
    "    relFRs[nii] = relMeanPosFRs/max(relMeanPosFRs)\n",
    "\n",
    "    if method == 'relFR':\n",
    "        tensorX[nii] /= tensorX[nii].max()\n",
    "        \n",
    "    elif method == 'relNorm': #make each pst unit norm, then rescale according to relative FR\n",
    "        stim_norms = from0to1(np.linalg.norm(tensorX[nii],axis=1,keepdims=1))\n",
    "        tensorX[nii] /= from0to1(stim_norms)\n",
    "        tensorX[nii] *= relFRs[nii][:,None]\n",
    "        \n",
    "PREFIX2 = f'{method}_sig{smooth_sig}'\n",
    "\n",
    "if optSF:\n",
    "    PREFIX2 += '_SF'"
   ]
  },
  {
   "cell_type": "code",
   "execution_count": 90,
   "metadata": {
    "ExecuteTime": {
     "end_time": "2022-09-30T15:02:50.813168Z",
     "start_time": "2022-09-30T15:02:50.554351Z"
    },
    "scrolled": true
   },
   "outputs": [
    {
     "data": {
      "text/plain": [
       "[<matplotlib.lines.Line2D at 0x7fb568c3a370>]"
      ]
     },
     "execution_count": 90,
     "metadata": {},
     "output_type": "execute_result"
    },
    {
     "data": {
      "image/png": "[encoded data removed]",
      "text/plain": [
       "<Figure size 432x288 with 1 Axes>"
      ]
     },
     "metadata": {
      "needs_background": "light"
     },
     "output_type": "display_data"
    }
   ],
   "source": [
    "# examples of concatenated psts for all stimuli from 2 different neurons\n",
    "plt.plot(tensorX[0].ravel('C'))\n",
    "plt.plot(tensorX[51].ravel('C'),alpha=.6)"
   ]
  },
  {
   "cell_type": "code",
   "execution_count": 141,
   "metadata": {
    "ExecuteTime": {
     "end_time": "2022-09-21T20:20:33.834956Z",
     "start_time": "2022-09-21T20:20:32.414181Z"
    }
   },
   "outputs": [
    {
     "data": {
      "image/png": "[encoded data removed]",
      "text/plain": [
       "<Figure size 432x432 with 36 Axes>"
      ]
     },
     "metadata": {
      "needs_background": "light"
     },
     "output_type": "display_data"
    }
   ],
   "source": [
    "# Show (in space) which units were sampled from which feature maps in that layer\n",
    "\n",
    "fmap_side = 36\n",
    "fmap_used = np.unique(neurons_used[:,0])\n",
    "nfmaps = fmap_used.size\n",
    "\n",
    "#for each factor\n",
    "for l in [1]:#sorted_factors:\n",
    "    #create square grid\n",
    "    grid_side = int(np.ceil(np.sqrt(nfmaps)))\n",
    "    f,axes = plt.subplots(grid_side,grid_side,figsize=(grid_side,grid_side))\n",
    "\n",
    "    canvas = np.zeros((nfmaps,fmap_side,fmap_side))\n",
    "    for fi in range(nfmaps):\n",
    "        #create sq array with neuronal activities in that factor\n",
    "        #canvas = np.zeros((fmap_side,fmap_side))\n",
    "        fmap_nis = np.flatnonzero([neurons_used[:,0] == fmap_used[fi]])\n",
    "        canvas[([fi]*len(fmap_nis),neurons_used[fmap_nis,1],neurons_used[fmap_nis,2])] = neural_factors[fmap_nis,l]\n",
    "    vmin = 0\n",
    "    vmax = canvas.max()\n",
    "    for fi in range(nfmaps):\n",
    "        axes[fi//grid_side,fi%grid_side].imshow(canvas[fi], vmin=vmin, vmax=vmax, cmap='binary_r')\n",
    "        axes[fi//grid_side,fi%grid_side].axis('off')\n",
    "    plt.show()            \n",
    "    break"
   ]
  },
  {
   "cell_type": "markdown",
   "metadata": {},
   "source": [
    "### compute CP decomposition"
   ]
  },
  {
   "cell_type": "code",
   "execution_count": 93,
   "metadata": {
    "ExecuteTime": {
     "end_time": "2022-09-30T15:03:46.498682Z",
     "start_time": "2022-09-30T15:03:46.389518Z"
    }
   },
   "outputs": [
    {
     "name": "stdout",
     "output_type": "stream",
     "text": [
      "res50_shifted_i3_n1575_SCL0_5_TL37_activation_maxFmeanN_imMax-relNorm_sig3_SF-deepnet-shift\n"
     ]
    }
   ],
   "source": [
    "CPMETHOD = 'shift'\n",
    "AREA = 'deepnet'\n",
    "tensorname = '%s-%s-%s-%s' % (PREFIX,PREFIX2,AREA,CPMETHOD)\n",
    "print(tensorname)\n",
    "\n",
    "nreps = 5\n",
    "NDIRS = 8\n",
    "\n",
    "minrank,maxrank,rankstep = 2,40,1 #inclusive\n",
    "\n",
    "# save tensor as .mat file\n",
    "from scipy.io import savemat\n",
    "savemat(tfname,{'X':mytensor})\n",
    "\n",
    "# run run_permcp.m"
   ]
  },
  {
   "cell_type": "markdown",
   "metadata": {
    "ExecuteTime": {
     "end_time": "2025-02-19T16:37:26.466999Z",
     "start_time": "2025-02-19T16:37:25.370866Z"
    }
   },
   "source": [
    "### load distance matrix and check for outliers"
   ]
  },
  {
   "cell_type": "code",
   "execution_count": null,
   "metadata": {},
   "outputs": [],
   "source": [
    "# for CNNs, it's a good idea to remove any obvious outliers before running IAN\n",
    "# load D2 as computed in `encoding-manifold.ipynb`\n",
    "D2 = np.load(f'temp_D2_deepnets_{PREFIX}-{PREFIX2}.npy')\n",
    "\n",
    "# this histogram of distance to nearest nbrs helps identifying them (if present)\n",
    "# wanna remove points that have either this 1-NN distance too close to 0 (e.g. two neurons that had near zero response to everything)\n",
    "# or neurons that were too different than everything else\n",
    "\n",
    "\n",
    "D1 = np.sqrt(D2)\n",
    "mindists = np.min(D1 + np.eye(N)*D1.max(),axis=0)\n",
    "meanmind = mindists.mean()\n",
    "medianmind = np.median(mindists)\n",
    "#https://www.statisticshowto.com/choose-bin-sizes-statistics/\n",
    "for n_bins in ['fd']:#,'doane','stone']:\n",
    "    if type(n_bins) is str:\n",
    "        try:\n",
    "            bin_edges = np.histogram_bin_edges(mindists,n_bins)\n",
    "        except:\n",
    "            continue\n",
    "        n_bins = len(bin_edges)-1\n",
    "    # plt.plot(np.r_[edges[0],(edges[1:]+edges[:-1])/2],np.r_[0,counts])\n",
    "    counts,edges,_ = plt.hist(mindists,n_bins,histtype='step',density=True,label=f'{n_bins} bins')\n",
    "plt.plot([meanmind,meanmind],[0,counts.max()],'k--',label='mean')\n",
    "plt.plot([medianmind,medianmind],[0,counts.max()],'r--',label='median')\n",
    "plt.legend()\n",
    "plt.show()"
   ]
  },
  {
   "cell_type": "code",
   "execution_count": null,
   "metadata": {},
   "outputs": [],
   "source": []
  },
  {
   "cell_type": "markdown",
   "metadata": {
    "ExecuteTime": {
     "end_time": "2022-09-29T14:01:31.617070Z",
     "start_time": "2022-09-29T14:01:31.561769Z"
    }
   },
   "source": [
    "### load IAN weighted graph"
   ]
  },
  {
   "cell_type": "code",
   "execution_count": 56,
   "metadata": {
    "ExecuteTime": {
     "end_time": "2022-09-29T18:14:16.511583Z",
     "start_time": "2022-09-29T18:14:16.147033Z"
    }
   },
   "outputs": [],
   "source": [
    "wG = sp.sparse.load_npz(f'temp_wG_deepnets_{PREFIX}-{PREFIX2}.npz')\n",
    "\n",
    "# also need to remove from wG any points that were disconnected (`disc_pts`) during the IAN optimization\n",
    "\n",
    "# if that happened, keep a list of `nonoutliers` to filter the points actually used \n",
    "nonoutliers = range(wG.shape[0])\n"
   ]
  },
  {
   "cell_type": "markdown",
   "metadata": {
    "ExecuteTime": {
     "end_time": "2022-09-29T14:01:31.617070Z",
     "start_time": "2022-09-29T14:01:31.561769Z"
    }
   },
   "source": [
    "### compute diff map"
   ]
  },
  {
   "cell_type": "code",
   "execution_count": 57,
   "metadata": {
    "ExecuteTime": {
     "end_time": "2022-09-29T18:14:18.847708Z",
     "start_time": "2022-09-29T18:14:17.585843Z"
    }
   },
   "outputs": [],
   "source": [
    "Psi,lams = diffusionMapSparseK(wG, 20, 1, t=1)\n",
    "Psi *= 10\n",
    "c = neurons_used[nonoutliers,0] #color labels for the different feature maps"
   ]
  },
  {
   "cell_type": "code",
   "execution_count": 59,
   "metadata": {
    "ExecuteTime": {
     "end_time": "2022-09-29T18:18:57.870289Z",
     "start_time": "2022-09-29T18:18:57.539328Z"
    }
   },
   "outputs": [
    {
     "data": {
      "text/plain": [
       "<matplotlib.collections.PathCollection at 0x7fb593c568e0>"
      ]
     },
     "execution_count": 59,
     "metadata": {},
     "output_type": "execute_result"
    },
    {
     "data": {
      "image/png": "[encoded data removed]",
      "text/plain": [
       "<Figure size 432x288 with 1 Axes>"
      ]
     },
     "metadata": {
      "needs_background": "light"
     },
     "output_type": "display_data"
    }
   ],
   "source": [
    "# flip thru diff coords to see the multiple clusters (usually strongly associated with a specific feature map)\n",
    "plt.scatter(*Psi[:,[5,6]].T,s=6,c=c,cmap='tab20')"
   ]
  },
  {
   "cell_type": "code",
   "execution_count": 24,
   "metadata": {
    "ExecuteTime": {
     "end_time": "2022-09-27T13:39:43.529839Z",
     "start_time": "2022-09-27T13:39:43.201862Z"
    }
   },
   "outputs": [
    {
     "data": {
      "text/plain": [
       "<matplotlib.collections.PathCollection at 0x7ff06c9d9c40>"
      ]
     },
     "execution_count": 24,
     "metadata": {},
     "output_type": "execute_result"
    },
    {
     "data": {
      "image/png": "[encoded data removed]",
      "text/plain": [
       "<Figure size 432x288 with 1 Axes>"
      ]
     },
     "metadata": {
      "needs_background": "light"
     },
     "output_type": "display_data"
    }
   ],
   "source": [
    "# nice colors to reasonably differentiate between up to 40 fmaps\n",
    "palstr = np.array(['#03579b', '#0488d1', '#03a9f4', '#4fc3f7', '#b3e5fc', '#19237e',\n",
    "          '#303f9f', '#3f51b5', '#7986cb', '#c5cae9', '#4a198c', '#7b21a2', '#9c27b0', '#ba68c8', '#e1bee7', '#88144f', '#c21f5b',\n",
    "          '#e92663', '#f06292', '#f8bbd0', '#bf360c', '#e64a18', '#ff5722', '#ff8a65', '#ffccbc', '#f67f17', '#fbc02c', '#ffec3a',\n",
    "          '#fff177', '#fdf9c3', '#33691d', '#689f38', '#8bc34a', '#aed581', '#ddedc8',\n",
    "         '#253137', '#455a64', '#607d8b', '#90a4ae', '#cfd8dc',])\n",
    "\n",
    "plt.scatter(range(len(palstr)),range(len(palstr)),c=palstr)"
   ]
  },
  {
   "cell_type": "code",
   "execution_count": null,
   "metadata": {
    "ExecuteTime": {
     "end_time": "2022-09-29T18:23:35.063182Z",
     "start_time": "2022-09-29T18:23:34.753094Z"
    }
   },
   "outputs": [],
   "source": [
    "# Nicer 3d scatter plot using plotly -- easier zooming, rotating, etc.\n",
    "\n",
    "import plotly.graph_objects as go\n",
    "\n",
    "# pick 3 coords to plot\n",
    "dcs = [5,6,4];\n",
    "import plotly.express as px\n",
    "\n",
    "\n",
    "fig = go.Figure()\n",
    "traces = []\n",
    "\n",
    "#color palette\n",
    "mypal = palstr\n",
    "\n",
    "\n",
    "colors = neurons_used[nonoutliers,0]\n",
    "fmapis = np.unique(colors)\n",
    "\n",
    "hovertext = np.array(list(map(str,nonoutliers)))\n",
    "hovertext = np.array(list(map(str,colors)))\n",
    "\n",
    "\n",
    "for fi,fmapi in enumerate(fmapis):\n",
    "    mask = colors==fmapi\n",
    "    traces.append(go.Scatter3d(\n",
    "        x=Psi[mask,dcs[0]],\n",
    "        y=Psi[mask,dcs[1]],\n",
    "        z=Psi[mask,dcs[2]],\n",
    "        mode='markers',\n",
    "        name='',\n",
    "        hoverinfo='text',\n",
    "        hovertext=hovertext[mask],\n",
    "        marker=dict(\n",
    "            size=4,\n",
    "            color=mypal[fi],#'blue',\n",
    "            opacity=1,\n",
    "            #colorscale=colorscale,\n",
    "            #showscale= True,\n",
    "        )))\n",
    "\n",
    "for trace in traces:\n",
    "    fig.add_trace(trace)\n",
    "radius = .5\n",
    "dcranges = [(-radius,radius)]*3\n",
    "dcranges = [None]*3\n",
    "axis_visible = True\n",
    "fig.update_layout(margin=dict(l=0, r=0, b=0, t=0),showlegend=True,\n",
    "                    paper_bgcolor=\"#f3f3f3\",\n",
    "                    scene={\"aspectmode\": \"cube\", \n",
    "\n",
    "\n",
    "                    \"xaxis\": dict(\n",
    "                        title=f'dc{dcs[0]}',visible= axis_visible, showticklabels=False, range=dcranges[0]),\n",
    "                    \"yaxis\": dict(\n",
    "                        title=f'dc{dcs[1]}',visible= axis_visible, showticklabels=False, range=dcranges[1]),\n",
    "                    \"zaxis\": dict(\n",
    "                        title=f'dc{dcs[2]}',visible= axis_visible, showticklabels=False, range=dcranges[2])},)\n",
    "fig.show()\n",
    "\n",
    "\n",
    "\n"
   ]
  }
 ],
 "metadata": {
  "celltoolbar": "Initialization Cell",
  "hide_input": false,
  "kernelspec": {
   "display_name": "Python [conda env:py3.12]",
   "language": "python",
   "name": "conda-env-py3.12-py"
  },
  "language_info": {
   "codemirror_mode": {
    "name": "ipython",
    "version": 3
   },
   "file_extension": ".py",
   "mimetype": "text/x-python",
   "name": "python",
   "nbconvert_exporter": "python",
   "pygments_lexer": "ipython3",
   "version": "3.12.7"
  }
 },
 "nbformat": 4,
 "nbformat_minor": 2
}
